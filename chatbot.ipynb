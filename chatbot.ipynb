{
 "cells": [
  {
   "cell_type": "code",
   "execution_count": 1,
   "metadata": {},
   "outputs": [
    {
     "name": "stderr",
     "output_type": "stream",
     "text": [
      "\n",
      "[notice] A new release of pip is available: 23.0.1 -> 25.0\n",
      "[notice] To update, run: python.exe -m pip install --upgrade pip\n"
     ]
    }
   ],
   "source": [
    "!pip install -q huggingface_hub llama-cpp-python sentence-transformers pandas faiss-cpu gradio torch"
   ]
  },
  {
   "cell_type": "code",
   "execution_count": 15,
   "metadata": {},
   "outputs": [],
   "source": [
    "import pandas as pd\n",
    "import numpy as np\n",
    "import faiss\n",
    "import gradio as gr\n",
    "from sentence_transformers import SentenceTransformer\n",
    "from huggingface_hub import hf_hub_download\n",
    "from llama_cpp import Llama\n",
    "import os"
   ]
  },
  {
   "cell_type": "code",
   "execution_count": null,
   "metadata": {},
   "outputs": [
    {
     "name": "stdout",
     "output_type": "stream",
     "text": [
      "Model already exists\n",
      "\n",
      "Model status: Found\n"
     ]
    }
   ],
   "source": [
    "model_name = \"TheBloke/Mistral-7B-Instruct-v0.1-GGUF\"\n",
    "model_file = \"mistral-7b-instruct-v0.1.Q4_K_M.gguf\"\n",
    "\n",
    "if not os.path.exists(model_file):\n",
    "    print(\"Downloading model...\")\n",
    "    hf_hub_download(\n",
    "        repo_id=model_name,\n",
    "        filename=model_file,\n",
    "        local_dir=\".\",\n",
    "        resume_download=True\n",
    "    )\n",
    "else:\n",
    "    print(\"Model already exists\")\n",
    "\n",
    "\n",
    "print(\"\\nModel status:\", \"Found\" if os.path.exists(model_file) else \"Missing\")"
   ]
  },
  {
   "cell_type": "code",
   "execution_count": 17,
   "metadata": {},
   "outputs": [
    {
     "name": "stdout",
     "output_type": "stream",
     "text": [
      "Dataset loaded successfully!\n",
      "Original columns: ['Unnamed: 0', 'Title', 'Organization', 'Skills', 'Ratings', 'Review counts', 'Metadata']\n",
      "\n",
      "Processed columns: ['Title', 'Course Description', 'Rating', 'Review counts', 'Organization', 'Course URL', 'Difficulty Level']\n"
     ]
    },
    {
     "data": {
      "text/html": [
       "<div>\n",
       "<style scoped>\n",
       "    .dataframe tbody tr th:only-of-type {\n",
       "        vertical-align: middle;\n",
       "    }\n",
       "\n",
       "    .dataframe tbody tr th {\n",
       "        vertical-align: top;\n",
       "    }\n",
       "\n",
       "    .dataframe thead th {\n",
       "        text-align: right;\n",
       "    }\n",
       "</style>\n",
       "<table border=\"1\" class=\"dataframe\">\n",
       "  <thead>\n",
       "    <tr style=\"text-align: right;\">\n",
       "      <th></th>\n",
       "      <th>Title</th>\n",
       "      <th>Course Description</th>\n",
       "      <th>Rating</th>\n",
       "      <th>Review counts</th>\n",
       "      <th>Organization</th>\n",
       "      <th>Course URL</th>\n",
       "      <th>Difficulty Level</th>\n",
       "    </tr>\n",
       "  </thead>\n",
       "  <tbody>\n",
       "    <tr>\n",
       "      <th>0</th>\n",
       "      <td>Google Cybersecurity</td>\n",
       "      <td>Network Security, Python Programming, Linux, ...</td>\n",
       "      <td>4.8</td>\n",
       "      <td>4.8(20K reviews)</td>\n",
       "      <td>Google</td>\n",
       "      <td>#</td>\n",
       "      <td>Not Specified</td>\n",
       "    </tr>\n",
       "    <tr>\n",
       "      <th>1</th>\n",
       "      <td>Google Data Analytics</td>\n",
       "      <td>Data Analysis, R Programming, SQL, Business C...</td>\n",
       "      <td>4.8</td>\n",
       "      <td>4.8(137K reviews)</td>\n",
       "      <td>Google</td>\n",
       "      <td>#</td>\n",
       "      <td>Not Specified</td>\n",
       "    </tr>\n",
       "  </tbody>\n",
       "</table>\n",
       "</div>"
      ],
      "text/plain": [
       "                   Title                                 Course Description  \\\n",
       "0   Google Cybersecurity   Network Security, Python Programming, Linux, ...   \n",
       "1  Google Data Analytics   Data Analysis, R Programming, SQL, Business C...   \n",
       "\n",
       "   Rating      Review counts Organization Course URL Difficulty Level  \n",
       "0     4.8   4.8(20K reviews)       Google          #    Not Specified  \n",
       "1     4.8  4.8(137K reviews)       Google          #    Not Specified  "
      ]
     },
     "metadata": {},
     "output_type": "display_data"
    }
   ],
   "source": [
    "try:\n",
    "    df = pd.read_csv(\"Coursera.csv\")\n",
    "    print(\"Dataset loaded successfully!\")\n",
    "    print(\"Original columns:\", df.columns.tolist())\n",
    "    \n",
    "    \n",
    "    df = df[['Title', 'Skills', 'Ratings', 'Review counts', 'Organization']].dropna()\n",
    "    df = df.rename(columns={\n",
    "        'Skills': 'Course Description',\n",
    "        'Ratings': 'Rating'\n",
    "    })\n",
    "    \n",
    "   \n",
    "    df['Course Description'] = df['Course Description'] + \" | Offered by: \" + df['Organization']\n",
    "    df['Course Description'] = df['Course Description'].str[:500]\n",
    "    \n",
    "   \n",
    "    df['Course URL'] = \"#\"\n",
    "    df['Difficulty Level'] = \"Not Specified\"\n",
    "    \n",
    "    print(\"\\nProcessed columns:\", df.columns.tolist())\n",
    "    display(df.head(2))\n",
    "    \n",
    "except Exception as e:\n",
    "    print(f\"Data loading error: {str(e)}\")\n"
   ]
  },
  {
   "cell_type": "code",
   "execution_count": null,
   "metadata": {},
   "outputs": [
    {
     "name": "stderr",
     "output_type": "stream",
     "text": [
      "Batches: 100%|██████████| 20/20 [00:11<00:00,  1.77it/s]"
     ]
    },
    {
     "name": "stdout",
     "output_type": "stream",
     "text": [
      "\n",
      "FAISS index created with 623 entries\n"
     ]
    },
    {
     "name": "stderr",
     "output_type": "stream",
     "text": [
      "\n"
     ]
    }
   ],
   "source": [
    "try:\n",
    "    embedder = SentenceTransformer('sentence-transformers/all-MiniLM-L6-v2')\n",
    "    embeddings = embedder.encode(df['Course Description'].tolist(), show_progress_bar=True)\n",
    "    \n",
    "    \n",
    "    index = faiss.IndexFlatL2(embeddings.shape[1])\n",
    "    index.add(np.array(embeddings).astype('float32'))\n",
    "    print(f\"\\nFAISS index created with {index.ntotal} entries\")\n",
    "    \n",
    "except Exception as e:\n",
    "    print(f\"Embedding error: {str(e)}\")"
   ]
  },
  {
   "cell_type": "code",
   "execution_count": null,
   "metadata": {},
   "outputs": [
    {
     "name": "stderr",
     "output_type": "stream",
     "text": [
      "llama_init_from_model: n_ctx_per_seq (2048) < n_ctx_train (32768) -- the full capacity of the model will not be utilized\n"
     ]
    },
    {
     "name": "stdout",
     "output_type": "stream",
     "text": [
      "LLM initialized successfully!\n",
      "Test response: 4\n"
     ]
    }
   ],
   "source": [
    "try:\n",
    "    \n",
    "    llm = Llama(\n",
    "        model_path=model_file,\n",
    "        n_ctx=2048, \n",
    "        n_gpu_layers=20,\n",
    "        verbose=False\n",
    "    )\n",
    "    print(\"LLM initialized successfully!\")\n",
    "    \n",
    "    # Proper test prompt\n",
    "    test_prompt = \"<s>[INST] What is 2+2? Answer concisely. [/INST]\"\n",
    "    test_output = llm(\n",
    "        test_prompt,\n",
    "        max_tokens=20,\n",
    "        temperature=0\n",
    "    )\n",
    "    print(\"Test response:\", test_output['choices'][0]['text'].strip())\n",
    "    \n",
    "except Exception as e:\n",
    "    print(f\"LLM initialization failed: {str(e)}\")"
   ]
  },
  {
   "cell_type": "code",
   "execution_count": 21,
   "metadata": {},
   "outputs": [
    {
     "name": "stdout",
     "output_type": "stream",
     "text": [
      "\n",
      "Testing recommendation for: 'data science'\n"
     ]
    },
    {
     "data": {
      "text/html": [
       "<div>\n",
       "<style scoped>\n",
       "    .dataframe tbody tr th:only-of-type {\n",
       "        vertical-align: middle;\n",
       "    }\n",
       "\n",
       "    .dataframe tbody tr th {\n",
       "        vertical-align: top;\n",
       "    }\n",
       "\n",
       "    .dataframe thead th {\n",
       "        text-align: right;\n",
       "    }\n",
       "</style>\n",
       "<table border=\"1\" class=\"dataframe\">\n",
       "  <thead>\n",
       "    <tr style=\"text-align: right;\">\n",
       "      <th></th>\n",
       "      <th>Title</th>\n",
       "      <th>Organization</th>\n",
       "      <th>similarity</th>\n",
       "    </tr>\n",
       "  </thead>\n",
       "  <tbody>\n",
       "    <tr>\n",
       "      <th>115</th>\n",
       "      <td>Learn SQL Basics for Data Science</td>\n",
       "      <td>University of California, Davis</td>\n",
       "      <td>0.291803</td>\n",
       "    </tr>\n",
       "    <tr>\n",
       "      <th>358</th>\n",
       "      <td>Data Science Coding Challenge: Loan Default Pr...</td>\n",
       "      <td>Coursera Project Network</td>\n",
       "      <td>0.260091</td>\n",
       "    </tr>\n",
       "  </tbody>\n",
       "</table>\n",
       "</div>"
      ],
      "text/plain": [
       "                                                 Title  \\\n",
       "115                  Learn SQL Basics for Data Science   \n",
       "358  Data Science Coding Challenge: Loan Default Pr...   \n",
       "\n",
       "                        Organization  similarity  \n",
       "115  University of California, Davis    0.291803  \n",
       "358         Coursera Project Network    0.260091  "
      ]
     },
     "metadata": {},
     "output_type": "display_data"
    }
   ],
   "source": [
    "def recommend_courses(query, top_k=3):\n",
    "    try:\n",
    "        query_embed = embedder.encode([query])\n",
    "        distances, indices = index.search(query_embed, top_k)\n",
    "        results = df.iloc[indices[0]].copy()\n",
    "        results['similarity'] = 1 - distances[0]\n",
    "        return results.sort_values('similarity', ascending=False)\n",
    "    except Exception as e:\n",
    "        print(f\"Recommendation error: {str(e)}\")\n",
    "        return pd.DataFrame()\n",
    "\n",
    "# Test\n",
    "test_query = \"data science\"\n",
    "print(f\"\\nTesting recommendation for: '{test_query}'\")\n",
    "test_results = recommend_courses(test_query)\n",
    "display(test_results[['Title', 'Organization', 'similarity']].head(2))"
   ]
  },
  {
   "cell_type": "code",
   "execution_count": 22,
   "metadata": {},
   "outputs": [
    {
     "name": "stdout",
     "output_type": "stream",
     "text": [
      "\n",
      "Testing explanation generation...\n"
     ]
    },
    {
     "name": "stderr",
     "output_type": "stream",
     "text": [
      "c:\\Users\\bindu\\AppData\\Local\\Programs\\Python\\Python310\\lib\\site-packages\\llama_cpp\\llama.py:1240: RuntimeWarning: Detected duplicate leading \"<s>\" in prompt, this will likely reduce response quality, consider removing it...\n",
      "  warnings.warn(\n"
     ]
    },
    {
     "name": "stdout",
     "output_type": "stream",
     "text": [
      "Both courses are related to data science because they involve working with data and using various data science techniques. The first course teaches SQL, a commonly used tool for data management and analysis in data science. The second course focuses on a specific application of data science, loan default prediction, which is a crucial problem in the financial industry and often involves working with large datasets and machine learning algorithms. Therefore, both courses are relevant to the field of data science.\n"
     ]
    }
   ],
   "source": [
    "def generate_explanation(query, courses):\n",
    "    try:\n",
    "        course_list = \"\\n\".join(\n",
    "            [f\"{i+1}. {row['Title']} ({row['Rating']}⭐)\" \n",
    "             for i, (_, row) in enumerate(courses.iterrows())]\n",
    "        )\n",
    "        \n",
    "        prompt = f\"\"\"<s>[INST] You are a course recommendation assistant. Given these courses:\n",
    "        {course_list}\n",
    "        Explain why these courses match: \"{query}\". Keep response under 100 words. [/INST]\"\"\"\n",
    "        \n",
    "        output = llm(\n",
    "            prompt,\n",
    "            max_tokens=150,\n",
    "            temperature=0.7,\n",
    "            echo=False\n",
    "        )\n",
    "        return output['choices'][0]['text'].strip()\n",
    "    \n",
    "    except Exception as e:\n",
    "        print(f\"Explanation error: {str(e)}\")\n",
    "        return \"Could not generate explanation\"\n",
    "\n",
    "# Test\n",
    "print(\"\\nTesting explanation generation...\")\n",
    "print(generate_explanation(test_query, test_results.head(2)))"
   ]
  },
  {
   "cell_type": "code",
   "execution_count": null,
   "metadata": {},
   "outputs": [
    {
     "name": "stdout",
     "output_type": "stream",
     "text": [
      "\n",
      "Launching interface...\n",
      "* Running on local URL:  http://127.0.0.1:7860\n",
      "* Running on public URL: https://5e7b48c239e0448507.gradio.live\n",
      "\n",
      "This share link expires in 72 hours. For free permanent hosting and GPU upgrades, run `gradio deploy` from the terminal in the working directory to deploy to Hugging Face Spaces (https://huggingface.co/spaces)\n"
     ]
    },
    {
     "name": "stderr",
     "output_type": "stream",
     "text": [
      "c:\\Users\\bindu\\AppData\\Local\\Programs\\Python\\Python310\\lib\\site-packages\\llama_cpp\\llama.py:1240: RuntimeWarning: Detected duplicate leading \"<s>\" in prompt, this will likely reduce response quality, consider removing it...\n",
      "  warnings.warn(\n",
      "c:\\Users\\bindu\\AppData\\Local\\Programs\\Python\\Python310\\lib\\site-packages\\llama_cpp\\llama.py:1240: RuntimeWarning: Detected duplicate leading \"<s>\" in prompt, this will likely reduce response quality, consider removing it...\n",
      "  warnings.warn(\n",
      "c:\\Users\\bindu\\AppData\\Local\\Programs\\Python\\Python310\\lib\\site-packages\\llama_cpp\\llama.py:1240: RuntimeWarning: Detected duplicate leading \"<s>\" in prompt, this will likely reduce response quality, consider removing it...\n",
      "  warnings.warn(\n"
     ]
    }
   ],
   "source": [
    "def respond(query):\n",
    "    try:\n",
    "       \n",
    "        courses = recommend_courses(query)\n",
    "        if courses.empty:\n",
    "            return \"No courses found. Try different keywords.\"\n",
    "        \n",
    "        \n",
    "        explanation = generate_explanation(query, courses.head(2))\n",
    "        \n",
    "        \n",
    "        cards = []\n",
    "        for _, row in courses.head(2).iterrows():\n",
    "            card = f\"\"\"\n",
    "            <div style='border:1px solid #ddd; padding:15px; margin:10px; border-radius:8px;'>\n",
    "                <h4 style='margin:0 0 10px 0;'>{row['Title']}</h4>\n",
    "                <div><b>Organization:</b> {row['Organization']}</div>\n",
    "                <div><b>Rating:</b> {row['Rating']}⭐ ({row['Review counts']} reviews)</div>\n",
    "                <div><b>Skills:</b> {row['Course Description'].split('|')[0]}</div>\n",
    "            </div>\n",
    "            \"\"\"\n",
    "            cards.append(card)\n",
    "            \n",
    "        return f\"{explanation}\\n\" + \"\\n\".join(cards)\n",
    "    \n",
    "    except Exception as e:\n",
    "        return f\"Error: {str(e)}\"\n",
    "\n",
    "\n",
    "with gr.Blocks(theme=gr.themes.Soft()) as demo:\n",
    "    gr.Markdown(\"# 🎓 Course Recommender\")\n",
    "    \n",
    "    with gr.Row():\n",
    "        query_input = gr.Textbox(\n",
    "            label=\"What do you want to learn?\",\n",
    "            placeholder=\"e.g., 'Python programming'\",\n",
    "            lines=2\n",
    "        )\n",
    "    \n",
    "    submit_btn = gr.Button(\"Find Courses\", variant=\"primary\")\n",
    "    \n",
    "    with gr.Accordion(\"Examples\", open=False):\n",
    "        gr.Examples(\n",
    "            examples=[[\"Machine learning\"], [\"Business analytics\"]],\n",
    "            inputs=[query_input]\n",
    "        )\n",
    "    \n",
    "    output = gr.HTML()\n",
    "    \n",
    "    submit_btn.click(respond, inputs=[query_input], outputs=output)\n",
    "\n",
    "\n",
    "print(\"\\nLaunching interface...\")\n",
    "demo.launch(\n",
    "    share=True,\n",
    "    inline=False,\n",
    "    debug=True  \n",
    ")"
   ]
  },
  {
   "cell_type": "code",
   "execution_count": null,
   "metadata": {},
   "outputs": [],
   "source": []
  }
 ],
 "metadata": {
  "kernelspec": {
   "display_name": "Python 3",
   "language": "python",
   "name": "python3"
  },
  "language_info": {
   "codemirror_mode": {
    "name": "ipython",
    "version": 3
   },
   "file_extension": ".py",
   "mimetype": "text/x-python",
   "name": "python",
   "nbconvert_exporter": "python",
   "pygments_lexer": "ipython3",
   "version": "3.10.11"
  }
 },
 "nbformat": 4,
 "nbformat_minor": 2
}
